{
 "cells": [
  {
   "cell_type": "code",
   "execution_count": 3,
   "metadata": {},
   "outputs": [
    {
     "data": {
      "text/plain": [
       "'apbqcr'"
      ]
     },
     "execution_count": 3,
     "metadata": {},
     "output_type": "execute_result"
    }
   ],
   "source": [
    "# 1\n",
    "# merge strings alternatively\n",
    "# You are given two strings word1 and word2. Merge the strings by adding letters in alternating order, starting with word1. If a \n",
    "# string is longer than the other, append the additional letters onto the end of the merged string.\n",
    "# Return the merged string.\n",
    "\n",
    "# Example 1:\n",
    "\n",
    "# Input: word1 = \"abc\", word2 = \"pqr\"\n",
    "# Output: \"apbqcr\"\n",
    "# Explanation: The merged string will be merged as so:\n",
    "# word1:  a   b   c\n",
    "# word2:    p   q   r\n",
    "# merged: a p b q c r\n",
    "\n",
    "word1 = \"abc\"\n",
    "word2 = \"pqr\"\n",
    "\n",
    "w1 = 0\n",
    "w2 = 0\n",
    "res = \"\"\n",
    "\n",
    "while w1 < len(word1) or w2 < len(word2):\n",
    "    if w1 < len(word1):\n",
    "        res += word1[w1]\n",
    "        w1 += 1\n",
    "    if w2 < len(word2):\n",
    "        res += word2[w2]\n",
    "        w2 += 1\n",
    "res\n"
   ]
  },
  {
   "cell_type": "code",
   "execution_count": 2,
   "metadata": {},
   "outputs": [
    {
     "name": "stdout",
     "output_type": "stream",
     "text": [
      "3\n"
     ]
    },
    {
     "data": {
      "text/plain": [
       "'ABC'"
      ]
     },
     "execution_count": 2,
     "metadata": {},
     "output_type": "execute_result"
    }
   ],
   "source": [
    "# 2\n",
    "# greatest common divisor\n",
    "# For two strings s and t, we say \"t divides s\" if and only if s = t + t + t + ... + t + t (i.e., t is concatenated with \n",
    "# itself one or more times).\n",
    "# Given two strings str1 and str2, return the largest string x such that x divides both str1 and str2.\n",
    "\n",
    "# Example 1:\n",
    "\n",
    "# Input: str1 = \"ABCABC\", str2 = \"ABC\"\n",
    "# Output: \"ABC\"\n",
    "import math\n",
    "str1 = \"ABCABC\"\n",
    "str2 = \"ABC\"\n",
    "if str1 + str2 != str1 + str2:\n",
    "    print(\"\")\n",
    "else:\n",
    "    gcd = math.gcd(len(str1),len(str2))\n",
    "    print(gcd)\n",
    "str1[:gcd]"
   ]
  },
  {
   "cell_type": "code",
   "execution_count": 10,
   "metadata": {},
   "outputs": [
    {
     "data": {
      "text/plain": [
       "[True, True, True, False, True]"
      ]
     },
     "execution_count": 10,
     "metadata": {},
     "output_type": "execute_result"
    }
   ],
   "source": [
    "# 3\n",
    "# kids with greatest number of candies\n",
    "# There are n kids with candies. You are given an integer array candies, where each candies[i] represents the number of candies the ith kid has, \n",
    "# and an integer extraCandies, denoting the number of extra candies that you have.\n",
    "# Return a boolean array result of length n, where result[i] is true if, after giving the ith kid all the extraCandies, they will have the \n",
    "# greatest number of candies among all the kids, or false otherwise.\n",
    "# Note that multiple kids can have the greatest number of candies.\n",
    "\n",
    "# Example 1:\n",
    "\n",
    "# Input: candies = [2,3,5,1,3], extraCandies = 3\n",
    "# Output: [true,true,true,false,true] \n",
    "# Explanation: If you give all extraCandies to:\n",
    "# - Kid 1, they will have 2 + 3 = 5 candies, which is the greatest among the kids.\n",
    "# - Kid 2, they will have 3 + 3 = 6 candies, which is the greatest among the kids.\n",
    "# - Kid 3, they will have 5 + 3 = 8 candies, which is the greatest among the kids.\n",
    "# - Kid 4, they will have 1 + 3 = 4 candies, which is not the greatest among the kids.\n",
    "# - Kid 5, they will have 3 + 3 = 6 candies, which is the greatest among the kids.\n",
    "\n",
    "candies = [2,3,5,1,3]\n",
    "extraCandies = 3\n",
    "lis = [False]*len(candies)\n",
    "for i in range(len(candies)):\n",
    "    if candies[i] + extraCandies >= max(candies):\n",
    "        lis[i] = True\n",
    "        \n",
    "lis"
   ]
  },
  {
   "cell_type": "code",
   "execution_count": 9,
   "metadata": {},
   "outputs": [
    {
     "name": "stdout",
     "output_type": "stream",
     "text": [
      "False\n"
     ]
    }
   ],
   "source": [
    "# 4\n",
    "# can place flowers\n",
    "# You have a long flowerbed in which some of the plots are planted, and some are not. However, flowers cannot be planted in adjacent plots.\n",
    "# Given an integer array flowerbed containing 0's and 1's, where 0 means empty and 1 means not empty, and an integer n, return true if n new \n",
    "# flowers can be planted in the flowerbed without violating the no-adjacent-flowers rule and false otherwise.\n",
    "\n",
    "# Example 1:\n",
    "\n",
    "# Input: flowerbed = [1,0,0,0,1], n = 1\n",
    "# Output: true\n",
    "\n",
    "flowerbed = [1,0,0,0,0,1]\n",
    "n = 2\n",
    "\n",
    "if len(flowerbed) == 1 and flowerbed[0] == 0:\n",
    "    flowerbed[0] = 1\n",
    "    n -= 1\n",
    "\n",
    "if flowerbed[0] == 0 and flowerbed[1] == 0:\n",
    "    flowerbed[0] = 1\n",
    "    n -= 1\n",
    "\n",
    "for i in range(1, len(flowerbed) - 1):\n",
    "    if flowerbed[i] == 0 and flowerbed[i - 1] == 0 and flowerbed[i + 1] == 0:\n",
    "        flowerbed[i] = 1\n",
    "        n -= 1\n",
    "        if n == 0:  \n",
    "            break\n",
    "\n",
    "if flowerbed[len(flowerbed) - 1] == 0 and flowerbed[len(flowerbed) - 2] == 0:\n",
    "    flowerbed[len(flowerbed) - 1] = 1\n",
    "    n -= 1\n",
    "\n",
    "print(True if n <= 0 else False)\n"
   ]
  },
  {
   "cell_type": "code",
   "execution_count": 19,
   "metadata": {},
   "outputs": [
    {
     "data": {
      "text/plain": [
       "'AceCreIm'"
      ]
     },
     "execution_count": 19,
     "metadata": {},
     "output_type": "execute_result"
    }
   ],
   "source": [
    "# 5\n",
    "# reverse vowels of a string\n",
    "# Given a string s, reverse only all the vowels in the string and return it.\n",
    "\n",
    "# The vowels are 'a', 'e', 'i', 'o', and 'u', and they can appear in both lower and upper cases, more than once.\n",
    "\n",
    "# Example 1:\n",
    "\n",
    "# Input: s = \"IceCreAm\"\n",
    "# Output: \"AceCreIm\"\n",
    "# Explanation:\n",
    "# The vowels in s are ['I', 'e', 'e', 'A']. On reversing the vowels, s becomes \"AceCreIm\".\n",
    "\n",
    "s = \"IceCreAm\"\n",
    "s = list(s)\n",
    "l = 0\n",
    "r = len(s)-1\n",
    "while l < r:\n",
    "    if s[l] in 'aeiouAEIOU' and s[r] in 'aeiouAEIOU':\n",
    "        s[l],s[r] = s[r],s[l]\n",
    "        l += 1\n",
    "        r -= 1\n",
    "    if s[l] not  in 'aeiouAEIOU':\n",
    "        l += 1\n",
    "    if s[r] not in 'aeiouAEIOU':\n",
    "        r -=1\n",
    "\"\".join(s)"
   ]
  },
  {
   "cell_type": "code",
   "execution_count": 23,
   "metadata": {},
   "outputs": [
    {
     "data": {
      "text/plain": [
       "['blue', 'is', 'sky', 'the']"
      ]
     },
     "execution_count": 23,
     "metadata": {},
     "output_type": "execute_result"
    }
   ],
   "source": [
    "# 6\n",
    "# Reverse words in a string\n",
    "# Given an input string s, reverse the order of the words.\n",
    "\n",
    "# A word is defined as a sequence of non-space characters. The words in s will be separated by at least one space.\n",
    "\n",
    "# Return a string of the words in reverse order concatenated by a single space.\n",
    "\n",
    "# Note that s may contain leading or trailing spaces or multiple spaces between two words. The returned string \n",
    "# should only have a single space separating the words. Do not include any extra spaces.\n",
    "\n",
    "# Example 1:\n",
    "\n",
    "# Input: s = \"the sky is blue\"\n",
    "# Output: \"blue is sky the\"\n",
    "s = \"the sky is blue\"\n",
    "s = s.split()\n",
    "s[::-1]"
   ]
  },
  {
   "cell_type": "code",
   "execution_count": null,
   "metadata": {},
   "outputs": [],
   "source": [
    "# 7\n",
    "# product of array excepy self\n",
    "# Given an integer array nums, return an array answer such that answer[i] is equal to the product of all the elements of nums except nums[i].\n",
    "\n",
    "# The product of any prefix or suffix of nums is guaranteed to fit in a 32-bit integer.\n",
    "\n",
    "# You must write an algorithm that runs in O(n) time and without using the division operation.\n",
    "\n",
    " \n",
    "\n",
    "# Example 1:\n",
    "\n",
    "# Input: nums = [1,2,3,4]\n",
    "# Output: [24,12,8,6]\n",
    "\n",
    "nums = [1,2,3,4]\n",
    "\n"
   ]
  }
 ],
 "metadata": {
  "kernelspec": {
   "display_name": "ipykernel",
   "language": "python",
   "name": "base"
  },
  "language_info": {
   "codemirror_mode": {
    "name": "ipython",
    "version": 3
   },
   "file_extension": ".py",
   "mimetype": "text/x-python",
   "name": "python",
   "nbconvert_exporter": "python",
   "pygments_lexer": "ipython3",
   "version": "3.12.4"
  }
 },
 "nbformat": 4,
 "nbformat_minor": 2
}

{
 "cells": [
  {
   "cell_type": "code",
   "execution_count": 3,
   "metadata": {},
   "outputs": [
    {
     "data": {
      "text/plain": [
       "'apbqcr'"
      ]
     },
     "execution_count": 3,
     "metadata": {},
     "output_type": "execute_result"
    }
   ],
   "source": [
    "# 1\n",
    "# merge strings alternatively\n",
    "# You are given two strings word1 and word2. Merge the strings by adding letters in alternating order, starting with word1. If a \n",
    "# string is longer than the other, append the additional letters onto the end of the merged string.\n",
    "# Return the merged string.\n",
    "\n",
    "# Example 1:\n",
    "\n",
    "# Input: word1 = \"abc\", word2 = \"pqr\"\n",
    "# Output: \"apbqcr\"\n",
    "# Explanation: The merged string will be merged as so:\n",
    "# word1:  a   b   c\n",
    "# word2:    p   q   r\n",
    "# merged: a p b q c r\n",
    "\n",
    "word1 = \"abc\"\n",
    "word2 = \"pqr\"\n",
    "\n",
    "w1 = 0\n",
    "w2 = 0\n",
    "res = \"\"\n",
    "\n",
    "while w1 < len(word1) or w2 < len(word2):\n",
    "    if w1 < len(word1):\n",
    "        res += word1[w1]\n",
    "        w1 += 1\n",
    "    if w2 < len(word2):\n",
    "        res += word2[w2]\n",
    "        w2 += 1\n",
    "res\n"
   ]
  },
  {
   "cell_type": "code",
   "execution_count": 2,
   "metadata": {},
   "outputs": [
    {
     "name": "stdout",
     "output_type": "stream",
     "text": [
      "3\n"
     ]
    },
    {
     "data": {
      "text/plain": [
       "'ABC'"
      ]
     },
     "execution_count": 2,
     "metadata": {},
     "output_type": "execute_result"
    }
   ],
   "source": [
    "# 2\n",
    "# greatest common divisor\n",
    "# For two strings s and t, we say \"t divides s\" if and only if s = t + t + t + ... + t + t (i.e., t is concatenated with \n",
    "# itself one or more times).\n",
    "# Given two strings str1 and str2, return the largest string x such that x divides both str1 and str2.\n",
    "\n",
    "# Example 1:\n",
    "\n",
    "# Input: str1 = \"ABCABC\", str2 = \"ABC\"\n",
    "# Output: \"ABC\"\n",
    "import math\n",
    "str1 = \"ABCABC\"\n",
    "str2 = \"ABC\"\n",
    "if str1 + str2 != str1 + str2:\n",
    "    print(\"\")\n",
    "else:\n",
    "    gcd = math.gcd(len(str1),len(str2))\n",
    "    print(gcd)\n",
    "str1[:gcd]"
   ]
  },
  {
   "cell_type": "code",
   "execution_count": 10,
   "metadata": {},
   "outputs": [
    {
     "data": {
      "text/plain": [
       "[True, True, True, False, True]"
      ]
     },
     "execution_count": 10,
     "metadata": {},
     "output_type": "execute_result"
    }
   ],
   "source": [
    "# 3\n",
    "# kids with greatest number of candies\n",
    "# There are n kids with candies. You are given an integer array candies, where each candies[i] represents the number of candies the ith kid has, \n",
    "# and an integer extraCandies, denoting the number of extra candies that you have.\n",
    "# Return a boolean array result of length n, where result[i] is true if, after giving the ith kid all the extraCandies, they will have the \n",
    "# greatest number of candies among all the kids, or false otherwise.\n",
    "# Note that multiple kids can have the greatest number of candies.\n",
    "\n",
    "# Example 1:\n",
    "\n",
    "# Input: candies = [2,3,5,1,3], extraCandies = 3\n",
    "# Output: [true,true,true,false,true] \n",
    "# Explanation: If you give all extraCandies to:\n",
    "# - Kid 1, they will have 2 + 3 = 5 candies, which is the greatest among the kids.\n",
    "# - Kid 2, they will have 3 + 3 = 6 candies, which is the greatest among the kids.\n",
    "# - Kid 3, they will have 5 + 3 = 8 candies, which is the greatest among the kids.\n",
    "# - Kid 4, they will have 1 + 3 = 4 candies, which is not the greatest among the kids.\n",
    "# - Kid 5, they will have 3 + 3 = 6 candies, which is the greatest among the kids.\n",
    "\n",
    "candies = [2,3,5,1,3]\n",
    "extraCandies = 3\n",
    "lis = [False]*len(candies)\n",
    "for i in range(len(candies)):\n",
    "    if candies[i] + extraCandies >= max(candies):\n",
    "        lis[i] = True\n",
    "        \n",
    "lis"
   ]
  },
  {
   "cell_type": "code",
   "execution_count": 9,
   "metadata": {},
   "outputs": [
    {
     "name": "stdout",
     "output_type": "stream",
     "text": [
      "False\n"
     ]
    }
   ],
   "source": [
    "# 4\n",
    "# can place flowers\n",
    "# You have a long flowerbed in which some of the plots are planted, and some are not. However, flowers cannot be planted in adjacent plots.\n",
    "# Given an integer array flowerbed containing 0's and 1's, where 0 means empty and 1 means not empty, and an integer n, return true if n new \n",
    "# flowers can be planted in the flowerbed without violating the no-adjacent-flowers rule and false otherwise.\n",
    "\n",
    "# Example 1:\n",
    "\n",
    "# Input: flowerbed = [1,0,0,0,1], n = 1\n",
    "# Output: true\n",
    "\n",
    "flowerbed = [1,0,0,0,0,1]\n",
    "n = 2\n",
    "\n",
    "if len(flowerbed) == 1 and flowerbed[0] == 0:\n",
    "    flowerbed[0] = 1\n",
    "    n -= 1\n",
    "\n",
    "if flowerbed[0] == 0 and flowerbed[1] == 0:\n",
    "    flowerbed[0] = 1\n",
    "    n -= 1\n",
    "\n",
    "for i in range(1, len(flowerbed) - 1):\n",
    "    if flowerbed[i] == 0 and flowerbed[i - 1] == 0 and flowerbed[i + 1] == 0:\n",
    "        flowerbed[i] = 1\n",
    "        n -= 1\n",
    "        if n == 0:  \n",
    "            break\n",
    "\n",
    "if flowerbed[len(flowerbed) - 1] == 0 and flowerbed[len(flowerbed) - 2] == 0:\n",
    "    flowerbed[len(flowerbed) - 1] = 1\n",
    "    n -= 1\n",
    "\n",
    "print(True if n <= 0 else False)\n"
   ]
  },
  {
   "cell_type": "code",
   "execution_count": 19,
   "metadata": {},
   "outputs": [
    {
     "data": {
      "text/plain": [
       "'AceCreIm'"
      ]
     },
     "execution_count": 19,
     "metadata": {},
     "output_type": "execute_result"
    }
   ],
   "source": [
    "# 5\n",
    "# reverse vowels of a string\n",
    "# Given a string s, reverse only all the vowels in the string and return it.\n",
    "\n",
    "# The vowels are 'a', 'e', 'i', 'o', and 'u', and they can appear in both lower and upper cases, more than once.\n",
    "\n",
    "# Example 1:\n",
    "\n",
    "# Input: s = \"IceCreAm\"\n",
    "# Output: \"AceCreIm\"\n",
    "# Explanation:\n",
    "# The vowels in s are ['I', 'e', 'e', 'A']. On reversing the vowels, s becomes \"AceCreIm\".\n",
    "\n",
    "s = \"IceCreAm\"\n",
    "s = list(s)\n",
    "l = 0\n",
    "r = len(s)-1\n",
    "while l < r:\n",
    "    if s[l] in 'aeiouAEIOU' and s[r] in 'aeiouAEIOU':\n",
    "        s[l],s[r] = s[r],s[l]\n",
    "        l += 1\n",
    "        r -= 1\n",
    "    if s[l] not  in 'aeiouAEIOU':\n",
    "        l += 1\n",
    "    if s[r] not in 'aeiouAEIOU':\n",
    "        r -=1\n",
    "\"\".join(s)"
   ]
  },
  {
   "cell_type": "code",
   "execution_count": 23,
   "metadata": {},
   "outputs": [
    {
     "data": {
      "text/plain": [
       "['blue', 'is', 'sky', 'the']"
      ]
     },
     "execution_count": 23,
     "metadata": {},
     "output_type": "execute_result"
    }
   ],
   "source": [
    "# 6\n",
    "# Reverse words in a string\n",
    "# Given an input string s, reverse the order of the words.\n",
    "\n",
    "# A word is defined as a sequence of non-space characters. The words in s will be separated by at least one space.\n",
    "\n",
    "# Return a string of the words in reverse order concatenated by a single space.\n",
    "\n",
    "# Note that s may contain leading or trailing spaces or multiple spaces between two words. The returned string \n",
    "# should only have a single space separating the words. Do not include any extra spaces.\n",
    "\n",
    "# Example 1:\n",
    "\n",
    "# Input: s = \"the sky is blue\"\n",
    "# Output: \"blue is sky the\"\n",
    "s = \"the sky is blue\"\n",
    "s = s.split()\n",
    "s[::-1]"
   ]
  },
  {
   "cell_type": "code",
   "execution_count": 6,
   "metadata": {},
   "outputs": [
    {
     "name": "stdout",
     "output_type": "stream",
     "text": [
      "[24, 12, 8, 6]\n",
      "24\n",
      "[24, 12, 8, 6]\n"
     ]
    }
   ],
   "source": [
    "# 7\n",
    "# product of array excepy self\n",
    "# Given an integer array nums, return an array answer such that answer[i] is equal to the product of all the elements of nums except nums[i].\n",
    "\n",
    "# The product of any prefix or suffix of nums is guaranteed to fit in a 32-bit integer.\n",
    "\n",
    "# You must write an algorithm that runs in O(n) time and without using the division operation.\n",
    "\n",
    " \n",
    "\n",
    "# Example 1:\n",
    "\n",
    "# Input: nums = [1,2,3,4]\n",
    "# Output: [24,12,8,6]\n",
    "\n",
    "nums = [1,2,3,4]\n",
    "res = []\n",
    "c = 0\n",
    "mul = 1\n",
    "while c < len(nums):\n",
    "    \n",
    "    curr = nums[c]\n",
    "    nums[c] = 1\n",
    "\n",
    "    for i in range(len(nums)):    \n",
    "        mul *= nums[i]\n",
    "    res.append(mul)\n",
    "    mul = 1\n",
    "    nums[c] = curr\n",
    "    c += 1\n",
    "print(res)\n",
    "\n",
    "# method 2\n",
    "nums = [1, 2, 3, 4]\n",
    "n = len(nums)\n",
    "res = [1] * n  \n",
    "\n",
    "left_prod = 1\n",
    "for i in range(n):\n",
    "    res[i] = left_prod\n",
    "    left_prod *= nums[i]\n",
    "\n",
    "right_prod = 1\n",
    "for i in range(n - 1, -1, -1):\n",
    "    res[i] *= right_prod\n",
    "    right_prod *= nums[i]\n",
    "\n",
    "print(res)\n",
    "        "
   ]
  },
  {
   "cell_type": "code",
   "execution_count": 12,
   "metadata": {},
   "outputs": [
    {
     "data": {
      "text/plain": [
       "True"
      ]
     },
     "execution_count": 12,
     "metadata": {},
     "output_type": "execute_result"
    }
   ],
   "source": [
    "# 8\n",
    "# Increasing triplet subsequence\n",
    "# Given an integer array nums, return true if there exists a triple of indices (i, j, k) such that i < j < k and \n",
    "# nums[i] < nums[j] < nums[k]. If no such indices exists, return false.\n",
    "\n",
    "# Example 1:\n",
    "\n",
    "# Input: nums = [1,2,3,4,5]\n",
    "# Output: true\n",
    "# Explanation: Any triplet where i < j < k is valid.\n",
    "\n",
    "nums = [20,100,10,12,5,13]\n",
    "flag = False\n",
    "firs = sec = float('inf')\n",
    "\n",
    "for i in nums:\n",
    "    if i <= firs:\n",
    "        firs = i\n",
    "    elif i <= sec:\n",
    "        sec = i\n",
    "    else:\n",
    "        flag = True\n",
    "flag"
   ]
  },
  {
   "cell_type": "code",
   "execution_count": 2,
   "metadata": {},
   "outputs": [
    {
     "data": {
      "text/plain": [
       "4"
      ]
     },
     "execution_count": 2,
     "metadata": {},
     "output_type": "execute_result"
    }
   ],
   "source": [
    "# 9 \n",
    "# string compression\n",
    "# Given an array of characters chars, compress it using the following algorithm:\n",
    "\n",
    "# Begin with an empty string s. For each group of consecutive repeating characters in chars:\n",
    "\n",
    "# If the group's length is 1, append the character to s.\n",
    "# Otherwise, append the character followed by the group's length.\n",
    "# The compressed string s should not be returned separately, but instead, be stored in the input character array chars. Note that \n",
    "# group lengths that are 10 or longer will be split into multiple characters in chars.\n",
    "\n",
    "# After you are done modifying the input array, return the new length of the array.\n",
    "\n",
    "# You must write an algorithm that uses only constant extra space.\n",
    "\n",
    " \n",
    "\n",
    "# Example 1:\n",
    "\n",
    "# Input: chars = [\"a\",\"a\",\"b\",\"b\",\"c\",\"c\",\"c\"]\n",
    "# Output: Return 6, and the first 6 characters of the input array should be: [\"a\",\"2\",\"b\",\"2\",\"c\",\"3\"]\n",
    "# Explanation: The groups are \"aa\", \"bb\", and \"ccc\". This compresses to \"a2b2c3\".\n",
    "\n",
    "chars =    [\"a\",\"b\",\"b\",\"b\",\"b\",\"b\",\"b\",\"b\",\"b\",\"b\",\"b\",\"b\",\"b\"]\n",
    "write = 0\n",
    "i = 0\n",
    "while i<len(chars):\n",
    "    char = chars[i] # a\n",
    "    count = 0\n",
    "\n",
    "    while i<len(chars) and chars[i] == char:\n",
    "        count += 1\n",
    "        i += 1\n",
    "    chars[write] = char\n",
    "    write += 1\n",
    "\n",
    "    if count > 1:\n",
    "        for c  in str(count):\n",
    "            chars[write] = c\n",
    "            write += 1\n",
    "write\n",
    "\n"
   ]
  },
  {
   "cell_type": "code",
   "execution_count": 18,
   "metadata": {},
   "outputs": [
    {
     "name": "stdout",
     "output_type": "stream",
     "text": [
      "[1, 3, 12, 3, 12]\n"
     ]
    },
    {
     "data": {
      "text/plain": [
       "[1, 3, 12, 0, 0]"
      ]
     },
     "execution_count": 18,
     "metadata": {},
     "output_type": "execute_result"
    }
   ],
   "source": [
    "# 10\n",
    "# move zeros\n",
    "# Given an integer array nums, move all 0's to the end of it while maintaining the relative order of the non-zero elements.\n",
    "# Note that you must do this in-place without making a copy of the array.\n",
    "\n",
    "# Example 1:\n",
    "\n",
    "# Input: nums = [0,1,0,3,12]\n",
    "# Output: [1,3,12,0,0]\n",
    "\n",
    "nums = [0,1,0,3,12]\n",
    "non_zero_index = 0\n",
    "        \n",
    "for i in range(len(nums)):   \n",
    "    if nums[i] != 0:\n",
    "        nums[non_zero_index] = nums[i]\n",
    "        non_zero_index += 1\n",
    "\n",
    "print(nums)\n",
    "\n",
    "for i in range(non_zero_index,len(nums)):\n",
    "    nums[i] = 0\n",
    "nums"
   ]
  },
  {
   "cell_type": "code",
   "execution_count": 6,
   "metadata": {},
   "outputs": [
    {
     "name": "stdout",
     "output_type": "stream",
     "text": [
      "False\n"
     ]
    }
   ],
   "source": [
    "# 11\n",
    "# is subsequence\n",
    "# Given two strings s and t, return true if s is a subsequence of t, or false otherwise.\n",
    "\n",
    "# A subsequence of a string is a new string that is formed from the original string by deleting some (can be none) of the characters \n",
    "# without disturbing the relative positions of the remaining characters. (i.e., \"ace\" is a subsequence of \"abcde\" while \"aec\" is not).\n",
    "\n",
    "\n",
    "# Example 1:\n",
    "\n",
    "# Input: s = \"abc\", t = \"ahbgdc\"\n",
    "# Output: true\n",
    "\n",
    "s = \"axc\"\n",
    "t = \"ahbgdc\"\n",
    "\n",
    "i = 0\n",
    "j = 0\n",
    "\n",
    "while j < len(t):\n",
    "    if s[i] == t[j]:\n",
    "        i += 1\n",
    "        j += 1\n",
    "    j += 1\n",
    "if i == len(s):\n",
    "    print(True)\n",
    "else:\n",
    "    print(False)"
   ]
  },
  {
   "cell_type": "code",
   "execution_count": 1,
   "metadata": {},
   "outputs": [
    {
     "data": {
      "text/plain": [
       "49"
      ]
     },
     "execution_count": 1,
     "metadata": {},
     "output_type": "execute_result"
    }
   ],
   "source": [
    "# 12\n",
    "# container with most water\n",
    "# You are given an integer array height of length n. There are n vertical lines drawn such that the two endpoints of the ith line are \n",
    "# (i, 0) and (i, height[i]).\n",
    "\n",
    "# Find two lines that together with the x-axis form a container, such that the container contains the most water.\n",
    "\n",
    "# Return the maximum amount of water a container can store.\n",
    "\n",
    "# Input: height = [1,8,6,2,5,4,8,3,7]\n",
    "# Output: 49\n",
    "# Explanation: The above vertical lines are represented by array [1,8,6,2,5,4,8,3,7]. In this case, the max area of water (blue section) \n",
    "# the container can contain is 49.\n",
    "\n",
    "height = [1,8,6,2,5,4,8,3,7]\n",
    "l = 0\n",
    "r = len(height) - 1\n",
    "maxA = 0\n",
    "\n",
    "while l<r:\n",
    "    w = r-l # width\n",
    "    h = min(height[l],height[r])\n",
    "    area = w*h\n",
    "    maxA = max(area,maxA)\n",
    "\n",
    "    if height[l] > height[r]:\n",
    "        r -= 1\n",
    "    else:\n",
    "        l += 1\n",
    "maxA"
   ]
  },
  {
   "cell_type": "code",
   "execution_count": 18,
   "metadata": {},
   "outputs": [
    {
     "data": {
      "text/plain": [
       "1"
      ]
     },
     "execution_count": 18,
     "metadata": {},
     "output_type": "execute_result"
    }
   ],
   "source": [
    "# 13\n",
    "# Max number of k sum pairs\n",
    "\n",
    "# You are given an integer array nums and an integer k.\n",
    "\n",
    "# In one operation, you can pick two numbers from the array whose sum equals k and remove them from the array.\n",
    "\n",
    "# Return the maximum number of operations you can perform on the array.\n",
    "\n",
    " \n",
    "\n",
    "# Example 1:\n",
    "\n",
    "# Input: nums = [1,2,3,4], k = 5\n",
    "# Output: 2\n",
    "# Explanation: Starting with nums = [1,2,3,4]:\n",
    "# - Remove numbers 1 and 4, then nums = [2,3]\n",
    "# - Remove numbers 2 and 3, then nums = []\n",
    "# There are no more pairs that sum up to 5, hence a total of 2 operations.\n",
    "\n",
    "nums = [1, 2, 3, 4]\n",
    "k = 5\n",
    "l = 0\n",
    "r = len(nums) - 1\n",
    "nums.sort()\n",
    "cou = 0\n",
    "\n",
    "while l < r:\n",
    "    if nums[l] + nums[r] == k:\n",
    "        cou += 1\n",
    "        l += 1\n",
    "        r -= 1\n",
    "    elif nums[l] + nums[r] < k:\n",
    "        l += 1\n",
    "    else:\n",
    "        r -= 1\n",
    "\n",
    "cou\n"
   ]
  },
  {
   "cell_type": "code",
   "execution_count": 13,
   "metadata": {},
   "outputs": [
    {
     "data": {
      "text/plain": [
       "2"
      ]
     },
     "execution_count": 13,
     "metadata": {},
     "output_type": "execute_result"
    }
   ],
   "source": [
    "# 14\n",
    "# Maximum average sub array\n",
    "# You are given an integer array nums consisting of n elements, and an integer k.\n",
    "\n",
    "# Find a contiguous subarray whose length is equal to k that has the maximum average value and return this value. Any answer \n",
    "# with a calculation error less than 10-5 will be accepted.\n",
    "\n",
    "# Example 1:\n",
    "\n",
    "# Input: nums = [1,12,-5,-6,50,3], k = 4\n",
    "# Output: 12.75000\n",
    "# Explanation: Maximum average is (12 - 5 - 6 + 50) / 4 = 51 / 4 = 12.75\n",
    "\n",
    "nums = [1,12,-5,-6,50,3]\n",
    "k = 4"
   ]
  },
  {
   "cell_type": "code",
   "execution_count": null,
   "metadata": {},
   "outputs": [],
   "source": []
  }
 ],
 "metadata": {
  "kernelspec": {
   "display_name": "ipykernel",
   "language": "python",
   "name": "base"
  },
  "language_info": {
   "codemirror_mode": {
    "name": "ipython",
    "version": 3
   },
   "file_extension": ".py",
   "mimetype": "text/x-python",
   "name": "python",
   "nbconvert_exporter": "python",
   "pygments_lexer": "ipython3",
   "version": "3.12.4"
  }
 },
 "nbformat": 4,
 "nbformat_minor": 2
}
